{
 "cells": [
  {
   "cell_type": "code",
   "execution_count": 1,
   "metadata": {},
   "outputs": [],
   "source": [
    "import pandas as pd\n",
    "import seaborn as sns\n",
    "import matplotlib.pyplot as plt\n",
    "import numpy as np\n",
    "\n",
    "sns.set_style(\"white\")\n",
    "\n",
    "df = pd.read_csv(\"C:\\\\Users\\\\danie\\\\Documents\\\\GitHUb\\\\Machine_Learning_Daniel_Claesson\\\\data\\\\Advertising.csv\")\n"
   ]
  },
  {
   "cell_type": "code",
   "execution_count": 15,
   "metadata": {},
   "outputs": [
    {
     "name": "stdout",
     "output_type": "stream",
     "text": [
      "Intercept beta_0 hat: 7.0326\n",
      "Slope beta_1 hat: 0.0475\n"
     ]
    },
    {
     "ename": "TypeError",
     "evalue": "cannot unpack non-iterable Figure object",
     "output_type": "error",
     "traceback": [
      "\u001b[1;31m---------------------------------------------------------------------------\u001b[0m",
      "\u001b[1;31mTypeError\u001b[0m                                 Traceback (most recent call last)",
      "Cell \u001b[1;32mIn[15], line 15\u001b[0m\n\u001b[0;32m     11\u001b[0m \u001b[38;5;28mprint\u001b[39m(\u001b[38;5;124mf\u001b[39m\u001b[38;5;124m\"\u001b[39m\u001b[38;5;124mSlope beta_1 hat: \u001b[39m\u001b[38;5;132;01m{\u001b[39;00mbeta_1\u001b[38;5;132;01m:\u001b[39;00m\u001b[38;5;124m.4f\u001b[39m\u001b[38;5;132;01m}\u001b[39;00m\u001b[38;5;124m\"\u001b[39m)\n\u001b[0;32m     13\u001b[0m spend \u001b[38;5;241m=\u001b[39m np\u001b[38;5;241m.\u001b[39mlinspace(\u001b[38;5;241m0\u001b[39m, \u001b[38;5;241m350\u001b[39m)\n\u001b[1;32m---> 15\u001b[0m fig, ax \u001b[38;5;241m=\u001b[39m plt\u001b[38;5;241m.\u001b[39mfigure(figsize\u001b[38;5;241m=\u001b[39m(\u001b[38;5;241m5\u001b[39m,\u001b[38;5;241m3\u001b[39m), dpi\u001b[38;5;241m=\u001b[39m\u001b[38;5;241m100\u001b[39m)\n\u001b[0;32m     17\u001b[0m sns\u001b[38;5;241m.\u001b[39mscatterplot(data\u001b[38;5;241m=\u001b[39mdf, x\u001b[38;5;241m=\u001b[39mTV, y\u001b[38;5;241m=\u001b[39m\u001b[38;5;124m\"\u001b[39m\u001b[38;5;124mSales\u001b[39m\u001b[38;5;124m\"\u001b[39m)\n\u001b[0;32m     18\u001b[0m sns\u001b[38;5;241m.\u001b[39mlineplot(x\u001b[38;5;241m=\u001b[39mspend, y\u001b[38;5;241m=\u001b[39my_hat(spend), color\u001b[38;5;241m=\u001b[39m\u001b[38;5;124m\"\u001b[39m\u001b[38;5;124mred\u001b[39m\u001b[38;5;124m\"\u001b[39m)\n",
      "\u001b[1;31mTypeError\u001b[0m: cannot unpack non-iterable Figure object"
     ]
    },
    {
     "data": {
      "text/plain": [
       "<Figure size 500x300 with 0 Axes>"
      ]
     },
     "metadata": {},
     "output_type": "display_data"
    }
   ],
   "source": [
    "X, y = df[\"TV\"], df['Sales']\n",
    "beta_1, beta_0 = np.polyfit(X, y, deg=1)\n",
    "#beta_1, beta_0\n",
    "\n",
    "#def y_hat(beta0, beta_1): # funktion som gör samma som labda funktionen\n",
    "#    beta_0 + beta_1*x\n",
    "\n",
    "y_hat = lambda x: beta_0 + beta_1*X\n",
    "\n",
    "print(f\"Intercept beta_0 hat: {beta_0:.4f}\")\n",
    "print(f\"Slope beta_1 hat: {beta_1:.4f}\")\n",
    "\n",
    "spend = np.linspace(0, 350)\n",
    "\n",
    "fig, ax = plt.figure(figsize=(5,3), dpi=100)\n",
    "\n",
    "sns.scatterplot(data=df, x=TV, y=\"Sales\")\n",
    "sns.lineplot(x=spend, y=y_hat(spend), color=\"red\")\n",
    "sns.set(title=(\"TV...\"))"
   ]
  },
  {
   "cell_type": "code",
   "execution_count": 16,
   "metadata": {},
   "outputs": [
    {
     "ename": "ValueError",
     "evalue": "shapes (4,) and (5,) not aligned: 4 (dim 0) != 5 (dim 0)",
     "output_type": "error",
     "traceback": [
      "\u001b[1;31m---------------------------------------------------------------------------\u001b[0m",
      "\u001b[1;31mValueError\u001b[0m                                Traceback (most recent call last)",
      "Cell \u001b[1;32mIn[16], line 10\u001b[0m\n\u001b[0;32m      6\u001b[0m predict \u001b[38;5;241m=\u001b[39m \u001b[38;5;28;01mlambda\u001b[39;00m x, beta: np\u001b[38;5;241m.\u001b[39mdot(x, beta)\n\u001b[0;32m      8\u001b[0m test_sample \u001b[38;5;241m=\u001b[39m [\u001b[38;5;241m1\u001b[39m, \u001b[38;5;241m230.1\u001b[39m, \u001b[38;5;241m37.8\u001b[39m, \u001b[38;5;241m69.2\u001b[39m]\n\u001b[1;32m---> 10\u001b[0m y_hat \u001b[38;5;241m=\u001b[39m \u001b[43mpredict\u001b[49m\u001b[43m(\u001b[49m\u001b[43mtest_sample\u001b[49m\u001b[43m,\u001b[49m\u001b[43m \u001b[49m\u001b[43mbeta_hat\u001b[49m\u001b[43m)\u001b[49m\n\u001b[0;32m     12\u001b[0m \u001b[38;5;28mprint\u001b[39m(\n\u001b[0;32m     13\u001b[0m     \u001b[38;5;124mf\u001b[39m\u001b[38;5;124m\"\u001b[39m\u001b[38;5;124mTV: $230.1k, Radio: $37.8k, Newspaper: $69.2k predicts \u001b[39m\u001b[38;5;132;01m{\u001b[39;00my_hat\u001b[38;5;132;01m:\u001b[39;00m\u001b[38;5;124m.1f\u001b[39m\u001b[38;5;132;01m}\u001b[39;00m\u001b[38;5;124m thousand units\u001b[39m\u001b[38;5;124m\"\u001b[39m\n\u001b[0;32m     14\u001b[0m )\n",
      "Cell \u001b[1;32mIn[16], line 6\u001b[0m, in \u001b[0;36m<lambda>\u001b[1;34m(x, beta)\u001b[0m\n\u001b[0;32m      4\u001b[0m regression_fit \u001b[38;5;241m=\u001b[39m \u001b[38;5;28;01mlambda\u001b[39;00m X, y: np\u001b[38;5;241m.\u001b[39mlinalg\u001b[38;5;241m.\u001b[39mpinv(X\u001b[38;5;241m.\u001b[39mT \u001b[38;5;241m@\u001b[39m X) \u001b[38;5;241m@\u001b[39m X\u001b[38;5;241m.\u001b[39mT \u001b[38;5;241m@\u001b[39m y\n\u001b[0;32m      5\u001b[0m beta_hat \u001b[38;5;241m=\u001b[39m regression_fit(X, y)\n\u001b[1;32m----> 6\u001b[0m predict \u001b[38;5;241m=\u001b[39m \u001b[38;5;28;01mlambda\u001b[39;00m x, beta: \u001b[43mnp\u001b[49m\u001b[38;5;241;43m.\u001b[39;49m\u001b[43mdot\u001b[49m\u001b[43m(\u001b[49m\u001b[43mx\u001b[49m\u001b[43m,\u001b[49m\u001b[43m \u001b[49m\u001b[43mbeta\u001b[49m\u001b[43m)\u001b[49m\n\u001b[0;32m      8\u001b[0m test_sample \u001b[38;5;241m=\u001b[39m [\u001b[38;5;241m1\u001b[39m, \u001b[38;5;241m230.1\u001b[39m, \u001b[38;5;241m37.8\u001b[39m, \u001b[38;5;241m69.2\u001b[39m]\n\u001b[0;32m     10\u001b[0m y_hat \u001b[38;5;241m=\u001b[39m predict(test_sample, beta_hat)\n",
      "\u001b[1;31mValueError\u001b[0m: shapes (4,) and (5,) not aligned: 4 (dim 0) != 5 (dim 0)"
     ]
    }
   ],
   "source": [
    "X, y = df.drop(\"Sales\", axis=\"columns\"), df[\"Sales\"]\n",
    "X.insert(0, \"Intercept\", 1)\n",
    "\n",
    "regression_fit = lambda X, y: np.linalg.pinv(X.T @ X) @ X.T @ y\n",
    "beta_hat = regression_fit(X, y)\n",
    "predict = lambda x, beta: np.dot(x, beta)\n",
    "\n",
    "test_sample = [1, 230.1, 37.8, 69.2]\n",
    "\n",
    "y_hat = predict(test_sample, beta_hat)\n",
    "\n",
    "print(\n",
    "    f\"TV: $230.1k, Radio: $37.8k, Newspaper: $69.2k predicts {y_hat:.1f} thousand units\"\n",
    ")"
   ]
  }
 ],
 "metadata": {
  "kernelspec": {
   "display_name": "Machine_Learning_Daniel_Claesson-k-O3HS6E",
   "language": "python",
   "name": "python3"
  },
  "language_info": {
   "codemirror_mode": {
    "name": "ipython",
    "version": 3
   },
   "file_extension": ".py",
   "mimetype": "text/x-python",
   "name": "python",
   "nbconvert_exporter": "python",
   "pygments_lexer": "ipython3",
   "version": "3.11.5"
  }
 },
 "nbformat": 4,
 "nbformat_minor": 2
}
